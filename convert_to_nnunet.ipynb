{
 "cells": [
  {
   "cell_type": "code",
   "execution_count": 34,
   "metadata": {},
   "outputs": [],
   "source": [
    "import os\n",
    "import shutil\n",
    "import cv2\n",
    "import json\n",
    "import random\n",
    "from data_utils import SegDataset, convert_sequential_labels, save_array_as_image"
   ]
  },
  {
   "cell_type": "code",
   "execution_count": 22,
   "metadata": {},
   "outputs": [],
   "source": [
    "ds = SegDataset(\n",
    "    image_dir=\"./data/train_frames/\",\n",
    "    mask_dir=\"./data/train_seg/\",\n",
    "    aug_image_dir=\"./data/generated-frames-edge-1-350000-fid/\",\n",
    "    aug_mask_dir=\"./data/train_seg_aug/\",\n",
    "    aug_prop=0.5,\n",
    "    transform=None,\n",
    ")\n",
    "\n",
    "ds_va = SegDataset(\n",
    "    image_dir=\"./data/valid_frames/\",\n",
    "    mask_dir=\"./data/valid_seg/\",\n",
    "    transform=None,\n",
    ")"
   ]
  },
  {
   "cell_type": "code",
   "execution_count": 23,
   "metadata": {},
   "outputs": [
    {
     "data": {
      "text/plain": [
       "(['./data/generated-frames-edge-1-350000-fid/ch4_ed_mask_164_generated_0.png',\n",
       "  './data/generated-frames-edge-1-350000-fid/ch2_es_mask_219_generated_0.png',\n",
       "  './data/generated-frames-edge-1-350000-fid/ch4_ed_mask_155_generated_1.png',\n",
       "  './data/generated-frames-edge-1-350000-fid/ch2_ed_mask_158_generated_1.png',\n",
       "  './data/generated-frames-edge-1-350000-fid/ch4_es_mask_402_generated_0.png'],\n",
       " ['./data/train_seg_aug/ch4_ed_mask_164_0.png',\n",
       "  './data/train_seg_aug/ch2_es_mask_219_0.png',\n",
       "  './data/train_seg_aug/ch4_ed_mask_155_1.png',\n",
       "  './data/train_seg_aug/ch2_ed_mask_158_1.png',\n",
       "  './data/train_seg_aug/ch4_es_mask_402_0.png'])"
      ]
     },
     "execution_count": 23,
     "metadata": {},
     "output_type": "execute_result"
    }
   ],
   "source": [
    "ds.frames[-5:], ds.masks[-5:]"
   ]
  },
  {
   "cell_type": "code",
   "execution_count": 24,
   "metadata": {},
   "outputs": [],
   "source": [
    "def get_file_name(path_name):\n",
    "    name = path_name.split(\"/\")[-1]\n",
    "    return name\n",
    "\n",
    "def convert_label_save(old_path, new_path):\n",
    "    img = convert_sequential_labels(old_path)\n",
    "    save_array_as_image(img, new_path)\n",
    "    return"
   ]
  },
  {
   "cell_type": "code",
   "execution_count": 42,
   "metadata": {},
   "outputs": [],
   "source": [
    "seed = 0\n",
    "random.seed(seed)\n",
    "\n",
    "directory = \"./data_nnunet/edge_1_350k_fid/\"\n",
    "if not os.path.exists(directory):\n",
    "    os.mkdir(directory)\n",
    "\n",
    "dirs = [\"imagesTr\", \"labelsTr\", \"imagesTs\"]\n",
    "for name in dirs:\n",
    "    os.makedirs(os.path.join(directory, name), exist_ok=True)\n",
    "tr_path = os.path.join(directory, dirs[0])\n",
    "lb_path = os.path.join(directory, dirs[1])\n",
    "ts_path = os.path.join(directory, dirs[2])\n",
    "\n",
    "datalist_json = {\"training\": [], \"testing\": []}\n",
    "map_pairs = {}\n",
    "\n",
    "# Test data\n",
    "datalist_json[\"testing\"] = [\n",
    "    {\"image\": os.path.join(ts_path, get_file_name(path))} for path in ds_va.frames\n",
    "]\n",
    "\n",
    "# Training data\n",
    "num_folds = 4\n",
    "num_samples = len(ds.frames)\n",
    "folds = [(i % num_folds) for i in range(num_samples)]\n",
    "random.shuffle(folds)\n",
    "for ii, (frame, mask) in enumerate(zip(ds.frames, ds.masks)):\n",
    "    new_name = f\"camus_{ii}.png\"\n",
    "    map_pairs[new_name] = {\"image\": frame, \"label\": mask}\n",
    "    image_dir = os.path.join(tr_path, new_name)\n",
    "    label_dir = os.path.join(lb_path, new_name)\n",
    "    shutil.copy(frame, image_dir)\n",
    "    convert_label_save(mask, label_dir)\n",
    "    datalist_json[\"training\"].append({\n",
    "        \"image\": image_dir,\n",
    "        \"label\": label_dir,\n",
    "        \"fold\": folds[ii]  # initialize as a single fold\n",
    "    })\n",
    "\n",
    "data_list_filename = os.path.join(directory, \"data_list.json\")\n",
    "with open(data_list_filename, \"w\") as J:\n",
    "    json.dump(datalist_json, J, indent=4)\n",
    "\n",
    "map_list_filename = os.path.join(directory, \"map_list.json\")\n",
    "with open(map_list_filename, \"w\") as J:\n",
    "    json.dump(map_pairs, J, indent=4)"
   ]
  },
  {
   "cell_type": "code",
   "execution_count": 32,
   "metadata": {},
   "outputs": [],
   "source": [
    "map_list_filename = os.path.join(directory, \"map_list.json\")\n",
    "with open(map_list_filename, \"w\") as J:\n",
    "    json.dump(map_pairs, J, indent=4)"
   ]
  },
  {
   "cell_type": "code",
   "execution_count": 40,
   "metadata": {},
   "outputs": [
    {
     "data": {
      "text/plain": [
       "[4, 3, 2, 3, 3, 1, 3, 3, 1, 2, 3, 2, 4, 1, 3, 3, 1, 3, 2, 4]"
      ]
     },
     "execution_count": 40,
     "metadata": {},
     "output_type": "execute_result"
    }
   ],
   "source": [
    "num_folds = 4\n",
    "num_samples = len(ds.frames)\n",
    "folds = [(i % num_folds)+1 for i in range(num_samples)]\n",
    "random.shuffle(folds)\n",
    "folds[:20]"
   ]
  },
  {
   "cell_type": "code",
   "execution_count": null,
   "metadata": {},
   "outputs": [],
   "source": []
  }
 ],
 "metadata": {
  "kernelspec": {
   "display_name": "base",
   "language": "python",
   "name": "python3"
  },
  "language_info": {
   "codemirror_mode": {
    "name": "ipython",
    "version": 3
   },
   "file_extension": ".py",
   "mimetype": "text/x-python",
   "name": "python",
   "nbconvert_exporter": "python",
   "pygments_lexer": "ipython3",
   "version": "3.11.5"
  }
 },
 "nbformat": 4,
 "nbformat_minor": 2
}
