{
 "cells": [
  {
   "cell_type": "code",
   "execution_count": 1,
   "metadata": {},
   "outputs": [],
   "source": [
    "from monai.networks.nets import AttentionUnet, Unet\n",
    "from torchsummary import summary \n",
    "import torch\n",
    "import torch.nn as nn\n",
    "\n",
    "def count_parameters(model):\n",
    "    return sum(p.numel() for p in model.parameters() if p.requires_grad)"
   ]
  },
  {
   "cell_type": "code",
   "execution_count": 64,
   "metadata": {},
   "outputs": [
    {
     "data": {
      "text/plain": [
       "7874288"
      ]
     },
     "execution_count": 64,
     "metadata": {},
     "output_type": "execute_result"
    }
   ],
   "source": [
    "attunet = AttentionUnet(\n",
    "    spatial_dims=2,\n",
    "    in_channels=1,\n",
    "    out_channels=4,\n",
    "    channels=[64, 128, 256, 512], #1024\n",
    "    strides=[2,2,2,2]\n",
    ")\n",
    "\n",
    "count_parameters(attunet)"
   ]
  },
  {
   "cell_type": "code",
   "execution_count": 3,
   "metadata": {},
   "outputs": [],
   "source": [
    "unet = Unet(\n",
    "    spatial_dims=2,\n",
    "    in_channels=1,\n",
    "    out_channels=4,\n",
    "    channels=[32,32,64,128,128],\n",
    "    strides=[2,2,2,2],\n",
    "    num_res_units=2,\n",
    "    act='RELU',\n",
    "    norm=None,\n",
    ")"
   ]
  },
  {
   "cell_type": "code",
   "execution_count": 4,
   "metadata": {},
   "outputs": [],
   "source": [
    "from models import get_attention_unet"
   ]
  },
  {
   "cell_type": "code",
   "execution_count": 2,
   "metadata": {},
   "outputs": [
    {
     "name": "stdout",
     "output_type": "stream",
     "text": [
      "31739380 1848152 14614520\n"
     ]
    }
   ],
   "source": [
    "from models import get_unet_small, get_unet_large, get_attention_unet, count_parameters\n",
    "\n",
    "unetS = get_unet_small()\n",
    "unetL = get_unet_large()\n",
    "aunet = get_attention_unet()\n",
    "\n",
    "print(count_parameters(aunet),count_parameters(unetS),count_parameters(unetL))"
   ]
  },
  {
   "cell_type": "code",
   "execution_count": 1,
   "metadata": {},
   "outputs": [],
   "source": [
    "from data_utils import SegDataset\n",
    "\n",
    "ds = SegDataset(\n",
    "    image_dir = './data/f1',\n",
    "    mask_dir = './data/m1',\n",
    "    aug_image_dir = './data/f2',\n",
    "    aug_mask_dir = './data/m2',\n",
    "    aug_prop=0.5,\n",
    ")"
   ]
  },
  {
   "cell_type": "code",
   "execution_count": 2,
   "metadata": {},
   "outputs": [
    {
     "data": {
      "text/plain": [
       "(['./data/m1\\\\ch2_ed_mask_50.png',\n",
       "  './data/m1\\\\ch2_ed_mask_51.png',\n",
       "  './data/m1\\\\ch2_ed_mask_52.png',\n",
       "  './data/m1\\\\ch2_ed_mask_53.png',\n",
       "  './data/m2\\\\ch2_ed_mask_55.png',\n",
       "  './data/m2\\\\ch2_ed_mask_54.png'],\n",
       " ['./data/f1\\\\ch2_ed_frame_50.png',\n",
       "  './data/f1\\\\ch2_ed_frame_51.png',\n",
       "  './data/f1\\\\ch2_ed_frame_52.png',\n",
       "  './data/f1\\\\ch2_ed_frame_53.png',\n",
       "  './data/f2\\\\ch2_ed_frame_55.png',\n",
       "  './data/f2\\\\ch2_ed_frame_54.png'])"
      ]
     },
     "execution_count": 2,
     "metadata": {},
     "output_type": "execute_result"
    }
   ],
   "source": [
    "ds.masks, ds.frames"
   ]
  },
  {
   "cell_type": "code",
   "execution_count": 5,
   "metadata": {},
   "outputs": [],
   "source": [
    "import torch\n",
    "import torch.nn.functional as F\n",
    "\n",
    "loss_func = torch.nn.CrossEntropyLoss(reduction='mean')"
   ]
  },
  {
   "cell_type": "code",
   "execution_count": 9,
   "metadata": {},
   "outputs": [
    {
     "name": "stdout",
     "output_type": "stream",
     "text": [
      "torch.Size([20, 4, 256, 256])\n",
      "torch.Size([20, 4, 256, 256])\n"
     ]
    }
   ],
   "source": [
    "y_true = torch.randint(4,(20,1,256,256))\n",
    "x_true = torch.rand((20,1,256,256))\n",
    "y_pred = unetS(x_true)\n",
    "print(y_pred.shape)\n",
    "\n",
    "yb = F.one_hot(y_true.long(), 4).squeeze().permute(0, 3, 1, 2)\n",
    "print(yb.shape)"
   ]
  },
  {
   "cell_type": "code",
   "execution_count": 83,
   "metadata": {},
   "outputs": [
    {
     "data": {
      "text/plain": [
       "torch.Size([20, 4, 256, 256])"
      ]
     },
     "execution_count": 83,
     "metadata": {},
     "output_type": "execute_result"
    }
   ],
   "source": [
    "yb = F.one_hot(y_true.long(), 4).squeeze().permute(0, 3, 1, 2)\n",
    "yb.shape"
   ]
  },
  {
   "cell_type": "code",
   "execution_count": 12,
   "metadata": {},
   "outputs": [
    {
     "data": {
      "text/plain": [
       "tensor(2.2116, grad_fn=<AddBackward0>)"
      ]
     },
     "execution_count": 12,
     "metadata": {},
     "output_type": "execute_result"
    }
   ],
   "source": [
    "from monai.losses import DiceCELoss\n",
    "\n",
    "loss_func = DiceCELoss(include_background=False, softmax=True)\n",
    "\n",
    "loss_func(y_pred, yb.float())"
   ]
  },
  {
   "cell_type": "code",
   "execution_count": 1,
   "metadata": {},
   "outputs": [],
   "source": [
    "from data_utils import CustomTransform, SegDataset\n"
   ]
  },
  {
   "cell_type": "code",
   "execution_count": null,
   "metadata": {},
   "outputs": [],
   "source": []
  }
 ],
 "metadata": {
  "kernelspec": {
   "display_name": "Python 3",
   "language": "python",
   "name": "python3"
  },
  "language_info": {
   "codemirror_mode": {
    "name": "ipython",
    "version": 3
   },
   "file_extension": ".py",
   "mimetype": "text/x-python",
   "name": "python",
   "nbconvert_exporter": "python",
   "pygments_lexer": "ipython3",
   "version": "3.12.3"
  }
 },
 "nbformat": 4,
 "nbformat_minor": 2
}
